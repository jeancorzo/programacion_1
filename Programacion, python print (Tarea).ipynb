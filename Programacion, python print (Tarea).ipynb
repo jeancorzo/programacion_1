{
 "cells": [
  {
   "cell_type": "markdown",
   "id": "71351202",
   "metadata": {},
   "source": [
    "# TAREA AL FINAL DEL CUADERNO!!!!!!!"
   ]
  },
  {
   "cell_type": "code",
   "execution_count": 1,
   "id": "6c5d8e7b",
   "metadata": {},
   "outputs": [
    {
     "data": {
      "text/plain": [
       "False"
      ]
     },
     "execution_count": 1,
     "metadata": {},
     "output_type": "execute_result"
    }
   ],
   "source": [
    "1+1 ==3"
   ]
  },
  {
   "cell_type": "code",
   "execution_count": 33,
   "id": "cf86ff02",
   "metadata": {},
   "outputs": [],
   "source": [
    "a=1"
   ]
  },
  {
   "cell_type": "markdown",
   "id": "514289bf",
   "metadata": {},
   "source": [
    "**Variables Booleanas**"
   ]
  },
  {
   "cell_type": "code",
   "execution_count": 2,
   "id": "d69a4552",
   "metadata": {},
   "outputs": [],
   "source": [
    "f = False"
   ]
  },
  {
   "cell_type": "code",
   "execution_count": 3,
   "id": "e3a00962",
   "metadata": {},
   "outputs": [],
   "source": [
    "t = True"
   ]
  },
  {
   "cell_type": "code",
   "execution_count": 11,
   "id": "d3dbe15f",
   "metadata": {},
   "outputs": [
    {
     "data": {
      "text/plain": [
       "False"
      ]
     },
     "execution_count": 11,
     "metadata": {},
     "output_type": "execute_result"
    }
   ],
   "source": [
    "f&t #Esto es una Y de logica proposicional"
   ]
  },
  {
   "cell_type": "code",
   "execution_count": 9,
   "id": "dbce6f22",
   "metadata": {},
   "outputs": [
    {
     "data": {
      "text/plain": [
       "True"
      ]
     },
     "execution_count": 9,
     "metadata": {},
     "output_type": "execute_result"
    }
   ],
   "source": [
    "f|t #Esto es una O de logica proposicional"
   ]
  },
  {
   "cell_type": "code",
   "execution_count": 8,
   "id": "d1809b0d",
   "metadata": {},
   "outputs": [
    {
     "data": {
      "text/plain": [
       "False"
      ]
     },
     "execution_count": 8,
     "metadata": {},
     "output_type": "execute_result"
    }
   ],
   "source": [
    "1+1 !=2 #Esto es una negacion proposicional"
   ]
  },
  {
   "cell_type": "code",
   "execution_count": 22,
   "id": "b7d8aa0e",
   "metadata": {},
   "outputs": [],
   "source": [
    "i = 2"
   ]
  },
  {
   "cell_type": "code",
   "execution_count": 24,
   "id": "0450e424",
   "metadata": {},
   "outputs": [],
   "source": [
    "i = i+5"
   ]
  },
  {
   "cell_type": "code",
   "execution_count": 25,
   "id": "8ea6df6c",
   "metadata": {},
   "outputs": [
    {
     "data": {
      "text/plain": [
       "7"
      ]
     },
     "execution_count": 25,
     "metadata": {},
     "output_type": "execute_result"
    }
   ],
   "source": [
    "i"
   ]
  },
  {
   "cell_type": "code",
   "execution_count": 26,
   "id": "ac0189fb",
   "metadata": {},
   "outputs": [
    {
     "name": "stdout",
     "output_type": "stream",
     "text": [
      "el valor de la variale i es: 7\n"
     ]
    }
   ],
   "source": [
    "print(\"el valor de la variale i es:\", i)"
   ]
  },
  {
   "cell_type": "code",
   "execution_count": 28,
   "id": "c38aee8f",
   "metadata": {},
   "outputs": [
    {
     "name": "stdout",
     "output_type": "stream",
     "text": [
      "17\n"
     ]
    }
   ],
   "source": [
    "i+=5 # i = i+5\n",
    "print(i)"
   ]
  },
  {
   "cell_type": "code",
   "execution_count": 29,
   "id": "926d15b6",
   "metadata": {},
   "outputs": [],
   "source": [
    "# VAriables flotantes\n",
    "x=1.35"
   ]
  },
  {
   "cell_type": "code",
   "execution_count": 30,
   "id": "ce4e9803",
   "metadata": {},
   "outputs": [
    {
     "data": {
      "text/plain": [
       "1.35"
      ]
     },
     "execution_count": 30,
     "metadata": {},
     "output_type": "execute_result"
    }
   ],
   "source": [
    "x"
   ]
  },
  {
   "cell_type": "code",
   "execution_count": 31,
   "id": "0af5e6b7",
   "metadata": {},
   "outputs": [
    {
     "name": "stdout",
     "output_type": "stream",
     "text": [
      "1.35 1.0\n"
     ]
    }
   ],
   "source": [
    "print(x,2/2)"
   ]
  },
  {
   "cell_type": "code",
   "execution_count": 34,
   "id": "6cda4e89",
   "metadata": {},
   "outputs": [
    {
     "data": {
      "text/plain": [
       "int"
      ]
     },
     "execution_count": 34,
     "metadata": {},
     "output_type": "execute_result"
    }
   ],
   "source": [
    "# Funcion type\n",
    "type(a)"
   ]
  },
  {
   "cell_type": "code",
   "execution_count": 35,
   "id": "fa42182a",
   "metadata": {},
   "outputs": [
    {
     "data": {
      "text/plain": [
       "bool"
      ]
     },
     "execution_count": 35,
     "metadata": {},
     "output_type": "execute_result"
    }
   ],
   "source": [
    "type(f)"
   ]
  },
  {
   "cell_type": "code",
   "execution_count": 36,
   "id": "0a4e0e45",
   "metadata": {},
   "outputs": [
    {
     "data": {
      "text/plain": [
       "float"
      ]
     },
     "execution_count": 36,
     "metadata": {},
     "output_type": "execute_result"
    }
   ],
   "source": [
    "type(x)"
   ]
  },
  {
   "cell_type": "code",
   "execution_count": 37,
   "id": "0213d9ea",
   "metadata": {},
   "outputs": [],
   "source": [
    "s= \"hola mundo\""
   ]
  },
  {
   "cell_type": "code",
   "execution_count": 38,
   "id": "54faee55",
   "metadata": {},
   "outputs": [
    {
     "data": {
      "text/plain": [
       "'hola mundo'"
      ]
     },
     "execution_count": 38,
     "metadata": {},
     "output_type": "execute_result"
    }
   ],
   "source": [
    "s"
   ]
  },
  {
   "cell_type": "code",
   "execution_count": 39,
   "id": "daf29408",
   "metadata": {},
   "outputs": [],
   "source": [
    "z= \"somos externadistas\""
   ]
  },
  {
   "cell_type": "code",
   "execution_count": 40,
   "id": "d0c54216",
   "metadata": {},
   "outputs": [
    {
     "data": {
      "text/plain": [
       "'somos externadistas'"
      ]
     },
     "execution_count": 40,
     "metadata": {},
     "output_type": "execute_result"
    }
   ],
   "source": [
    "z"
   ]
  },
  {
   "cell_type": "code",
   "execution_count": 42,
   "id": "029b9b32",
   "metadata": {},
   "outputs": [
    {
     "data": {
      "text/plain": [
       "'hola mundo. somos externadistas'"
      ]
     },
     "execution_count": 42,
     "metadata": {},
     "output_type": "execute_result"
    }
   ],
   "source": [
    "s+'. '+z"
   ]
  },
  {
   "cell_type": "code",
   "execution_count": 43,
   "id": "fd5e8808",
   "metadata": {
    "scrolled": true
   },
   "outputs": [
    {
     "data": {
      "text/plain": [
       "'hola mundohola mundohola mundohola mundohola mundohola mundohola mundohola mundohola mundohola mundo'"
      ]
     },
     "execution_count": 43,
     "metadata": {},
     "output_type": "execute_result"
    }
   ],
   "source": [
    "s*10"
   ]
  },
  {
   "cell_type": "code",
   "execution_count": 161,
   "id": "b4f20b49",
   "metadata": {},
   "outputs": [
    {
     "data": {
      "text/html": [
       "print(<i>\"aushduashd\"</i>)\n"
      ],
      "text/plain": [
       "<IPython.core.display.HTML object>"
      ]
     },
     "metadata": {},
     "output_type": "display_data"
    }
   ],
   "source": [
    "%%html\n",
    "print(<i>\"aushduashd\"</i>)"
   ]
  },
  {
   "cell_type": "code",
   "execution_count": 44,
   "id": "95d0a4eb",
   "metadata": {},
   "outputs": [
    {
     "data": {
      "text/plain": [
       "str"
      ]
     },
     "execution_count": 44,
     "metadata": {},
     "output_type": "execute_result"
    }
   ],
   "source": [
    "type(s)"
   ]
  },
  {
   "cell_type": "code",
   "execution_count": 45,
   "id": "ee87590d",
   "metadata": {},
   "outputs": [
    {
     "data": {
      "text/plain": [
       "'h'"
      ]
     },
     "execution_count": 45,
     "metadata": {},
     "output_type": "execute_result"
    }
   ],
   "source": [
    "s[0]"
   ]
  },
  {
   "cell_type": "code",
   "execution_count": 46,
   "id": "01e060d3",
   "metadata": {},
   "outputs": [
    {
     "name": "stdout",
     "output_type": "stream",
     "text": [
      "h m o\n"
     ]
    }
   ],
   "source": [
    "print(s[0],s[5],s[9])"
   ]
  },
  {
   "cell_type": "code",
   "execution_count": 47,
   "id": "05778fcf",
   "metadata": {},
   "outputs": [
    {
     "name": "stdout",
     "output_type": "stream",
     "text": [
      "h\n",
      "m\n",
      "o\n"
     ]
    }
   ],
   "source": [
    "print(s[0],s[5],s[9],sep='\\n')"
   ]
  },
  {
   "cell_type": "code",
   "execution_count": 48,
   "id": "67cd4474",
   "metadata": {},
   "outputs": [
    {
     "name": "stdout",
     "output_type": "stream",
     "text": [
      "h_m_o\n"
     ]
    }
   ],
   "source": [
    "print(s[0],s[5],s[9],sep='_')"
   ]
  },
  {
   "cell_type": "code",
   "execution_count": 50,
   "id": "34814930",
   "metadata": {},
   "outputs": [
    {
     "name": "stdout",
     "output_type": "stream",
     "text": [
      "hola mundo es: <class 'bool'>\n"
     ]
    }
   ],
   "source": [
    "print(s, 'es:', type(f))"
   ]
  },
  {
   "cell_type": "code",
   "execution_count": 51,
   "id": "ccac47d5",
   "metadata": {},
   "outputs": [
    {
     "name": "stdout",
     "output_type": "stream",
     "text": [
      "hola mundo es: <class 'float'>\n"
     ]
    }
   ],
   "source": [
    "print(s, 'es:', type(x))"
   ]
  },
  {
   "cell_type": "code",
   "execution_count": 52,
   "id": "7385d604",
   "metadata": {},
   "outputs": [
    {
     "name": "stdout",
     "output_type": "stream",
     "text": [
      "hola mundo es: <class 'int'>\n"
     ]
    }
   ],
   "source": [
    "print(s, 'es:', type(i))"
   ]
  },
  {
   "cell_type": "code",
   "execution_count": 53,
   "id": "18aa1d7e",
   "metadata": {},
   "outputs": [
    {
     "data": {
      "text/plain": [
       "'o'"
      ]
     },
     "execution_count": 53,
     "metadata": {},
     "output_type": "execute_result"
    }
   ],
   "source": [
    "s[-1]"
   ]
  },
  {
   "cell_type": "code",
   "execution_count": 54,
   "id": "034aa840",
   "metadata": {},
   "outputs": [],
   "source": [
    "y= 2/2"
   ]
  },
  {
   "cell_type": "code",
   "execution_count": 55,
   "id": "53793a85",
   "metadata": {},
   "outputs": [
    {
     "data": {
      "text/plain": [
       "float"
      ]
     },
     "execution_count": 55,
     "metadata": {},
     "output_type": "execute_result"
    }
   ],
   "source": [
    "type(y)"
   ]
  },
  {
   "cell_type": "code",
   "execution_count": 56,
   "id": "3e1d3106",
   "metadata": {},
   "outputs": [
    {
     "name": "stdout",
     "output_type": "stream",
     "text": [
      "1.0\n"
     ]
    }
   ],
   "source": [
    "print(y)"
   ]
  },
  {
   "cell_type": "code",
   "execution_count": 57,
   "id": "81144d2d",
   "metadata": {},
   "outputs": [
    {
     "data": {
      "text/plain": [
       "1"
      ]
     },
     "execution_count": 57,
     "metadata": {},
     "output_type": "execute_result"
    }
   ],
   "source": [
    "int(y)"
   ]
  },
  {
   "cell_type": "code",
   "execution_count": 58,
   "id": "d2aac790",
   "metadata": {},
   "outputs": [
    {
     "data": {
      "text/plain": [
       "1"
      ]
     },
     "execution_count": 58,
     "metadata": {},
     "output_type": "execute_result"
    }
   ],
   "source": [
    "int(1.5)"
   ]
  },
  {
   "cell_type": "code",
   "execution_count": 60,
   "id": "f522d9d9",
   "metadata": {},
   "outputs": [
    {
     "data": {
      "text/plain": [
       "'1.01.01.01.01.01.01.01.01.01.0'"
      ]
     },
     "execution_count": 60,
     "metadata": {},
     "output_type": "execute_result"
    }
   ],
   "source": [
    "y=2/2\n",
    "w=str(y)\n",
    "w*10"
   ]
  },
  {
   "cell_type": "code",
   "execution_count": 61,
   "id": "33d57c3c",
   "metadata": {},
   "outputs": [
    {
     "name": "stdout",
     "output_type": "stream",
     "text": [
      "escriba algoasdashdasda\n"
     ]
    },
    {
     "data": {
      "text/plain": [
       "'asdashdasda'"
      ]
     },
     "execution_count": 61,
     "metadata": {},
     "output_type": "execute_result"
    }
   ],
   "source": [
    "# funcion input \n",
    "input('escriba algo')"
   ]
  },
  {
   "cell_type": "code",
   "execution_count": 62,
   "id": "7a9e7516",
   "metadata": {},
   "outputs": [
    {
     "name": "stdout",
     "output_type": "stream",
     "text": [
      "escriba su nombre:Jean\n"
     ]
    }
   ],
   "source": [
    "Nombre=input(\"escriba su nombre:\")"
   ]
  },
  {
   "cell_type": "code",
   "execution_count": 63,
   "id": "da86a25b",
   "metadata": {},
   "outputs": [
    {
     "data": {
      "text/plain": [
       "'Jean'"
      ]
     },
     "execution_count": 63,
     "metadata": {},
     "output_type": "execute_result"
    }
   ],
   "source": [
    "Nombre"
   ]
  },
  {
   "cell_type": "code",
   "execution_count": 64,
   "id": "220f8ea4",
   "metadata": {},
   "outputs": [
    {
     "name": "stdout",
     "output_type": "stream",
     "text": [
      "Escriba su edad:16\n"
     ]
    }
   ],
   "source": [
    "Edad=input(\"Escriba su edad:\")"
   ]
  },
  {
   "cell_type": "code",
   "execution_count": 66,
   "id": "7e269237",
   "metadata": {},
   "outputs": [
    {
     "data": {
      "text/plain": [
       "'16'"
      ]
     },
     "execution_count": 66,
     "metadata": {},
     "output_type": "execute_result"
    }
   ],
   "source": [
    "Edad"
   ]
  },
  {
   "cell_type": "code",
   "execution_count": 69,
   "id": "d9d1733f",
   "metadata": {},
   "outputs": [
    {
     "data": {
      "text/plain": [
       "str"
      ]
     },
     "execution_count": 69,
     "metadata": {},
     "output_type": "execute_result"
    }
   ],
   "source": [
    "type(Edad)"
   ]
  },
  {
   "cell_type": "code",
   "execution_count": 71,
   "id": "0d280fc9",
   "metadata": {},
   "outputs": [
    {
     "name": "stdout",
     "output_type": "stream",
     "text": [
      "valor del vehiculo que le gustaria tener:400000000\n"
     ]
    }
   ],
   "source": [
    "vehiculo=float(input('valor del vehiculo que le gustaria tener:'))"
   ]
  },
  {
   "cell_type": "code",
   "execution_count": 72,
   "id": "bc41ef4e",
   "metadata": {},
   "outputs": [
    {
     "name": "stdout",
     "output_type": "stream",
     "text": [
      "Jean que tiene: 16 años quisiera tener un vehiculo de: 400000000.0 COP\n"
     ]
    }
   ],
   "source": [
    "print(Nombre, 'que tiene:', Edad, 'años', \n",
    "    'quisiera tener un vehiculo de:',vehiculo, \"COP\")"
   ]
  },
  {
   "cell_type": "code",
   "execution_count": 73,
   "id": "80843de9",
   "metadata": {},
   "outputs": [
    {
     "name": "stdout",
     "output_type": "stream",
     "text": [
      "Jean que tiene 16 años, quisiera tener un vehiculo de 400000000.0 COP\n"
     ]
    }
   ],
   "source": [
    "print('{} que tiene {} años, quisiera tener un vehiculo de {} COP'.format(Nombre,Edad,vehiculo)) "
   ]
  },
  {
   "cell_type": "code",
   "execution_count": 74,
   "id": "dfb56a97",
   "metadata": {},
   "outputs": [
    {
     "name": "stdout",
     "output_type": "stream",
     "text": [
      "400000000.0 que tiene Jean años, quisiera tener un vehiculo de 16 COP\n"
     ]
    }
   ],
   "source": [
    "print('{2} que tiene {0} años, quisiera tener un vehiculo de {1} COP'.format(Nombre,Edad,vehiculo)) "
   ]
  },
  {
   "cell_type": "code",
   "execution_count": 75,
   "id": "21806502",
   "metadata": {},
   "outputs": [
    {
     "name": "stdout",
     "output_type": "stream",
     "text": [
      "Jean que tiene 16 años, quisiera tener un vehiculo de 400000000.0 COP\n"
     ]
    }
   ],
   "source": [
    "print('{0} que tiene {1} años, quisiera tener un vehiculo de {2} COP'.format(Nombre,Edad,vehiculo)) "
   ]
  },
  {
   "cell_type": "code",
   "execution_count": 79,
   "id": "6a3c2962",
   "metadata": {},
   "outputs": [
    {
     "name": "stdout",
     "output_type": "stream",
     "text": [
      "Jean que tiene 16 años, quisiera tener un vehiculo de 400,000,000.000000 COP\n"
     ]
    }
   ],
   "source": [
    "print('{0} que tiene {1:2} años, quisiera tener un vehiculo de {2:2,f} COP'.format(Nombre,Edad,vehiculo)) "
   ]
  },
  {
   "cell_type": "code",
   "execution_count": 80,
   "id": "6863eb25",
   "metadata": {},
   "outputs": [
    {
     "name": "stdout",
     "output_type": "stream",
     "text": [
      "Jean que tiene 16 años, quisiera tener un vehiculo de 400000000.0 COP\n"
     ]
    }
   ],
   "source": [
    "print(f'{Nombre} que tiene {Edad} años, quisiera tener un vehiculo de {vehiculo} COP'.format(Nombre,Edad,vehiculo)) "
   ]
  },
  {
   "cell_type": "code",
   "execution_count": 107,
   "id": "ecc151c9",
   "metadata": {},
   "outputs": [
    {
     "name": "stdout",
     "output_type": "stream",
     "text": [
      "hola\n",
      "------------------Hola------------------\n",
      "hola                                    \n",
      "ÆÆÆÆÆÆÆÆÆÆÆÆÆÆÆÆÆÆÆÆÆÆÆÆÆÆÆÆÆÆÆÆÆÆÆÆhola\n",
      "           hola Jean           \n"
     ]
    }
   ],
   "source": [
    "# asi se alinea el texto \n",
    "print(\"hola\")\n",
    "print(\"Hola\".center(40,'-'))\n",
    "print('hola'.ljust(40,' '))\n",
    "print(\"hola\".rjust(40,'Æ'))\n",
    "print(\"hola {1}\".center(30,\" \").format(Edad,Nombre))"
   ]
  },
  {
   "cell_type": "code",
   "execution_count": null,
   "id": "ff0a6d12",
   "metadata": {},
   "outputs": [],
   "source": [
    "# Tarea:\n",
    "#Escribir una carta motivacional de hoy en un año, guardar una variable con mi **nombre y mi edad**, y por medio de \n",
    "# input hacer la carta. \n",
    "# tambien alinear texto \n",
    "# carta tambien en 5 años (usar variables)"
   ]
  },
  {
   "cell_type": "code",
   "execution_count": 87,
   "id": "4d49f83b",
   "metadata": {},
   "outputs": [
    {
     "name": "stdout",
     "output_type": "stream",
     "text": [
      "escriba su edad en un año: 17\n"
     ]
    }
   ],
   "source": [
    "EEUA=input(\"escriba su edad en un año: \")"
   ]
  },
  {
   "cell_type": "code",
   "execution_count": 88,
   "id": "7b349e8b",
   "metadata": {},
   "outputs": [
    {
     "data": {
      "text/plain": [
       "'17'"
      ]
     },
     "execution_count": 88,
     "metadata": {},
     "output_type": "execute_result"
    }
   ],
   "source": [
    "EEUA"
   ]
  },
  {
   "cell_type": "code",
   "execution_count": 89,
   "id": "5290983a",
   "metadata": {
    "scrolled": true
   },
   "outputs": [
    {
     "name": "stdout",
     "output_type": "stream",
     "text": [
      "Escribe algo: Jean Del futuro\n"
     ]
    }
   ],
   "source": [
    "JDF=input(\"Escribe algo: \")"
   ]
  },
  {
   "cell_type": "code",
   "execution_count": 90,
   "id": "4072069a",
   "metadata": {},
   "outputs": [
    {
     "data": {
      "text/plain": [
       "'Jean Del futuro'"
      ]
     },
     "execution_count": 90,
     "metadata": {},
     "output_type": "execute_result"
    }
   ],
   "source": [
    "JDF"
   ]
  },
  {
   "cell_type": "code",
   "execution_count": 94,
   "id": "550b8d66",
   "metadata": {},
   "outputs": [
    {
     "name": "stdout",
     "output_type": "stream",
     "text": [
      "define algo: Jean Del pasado\n"
     ]
    }
   ],
   "source": [
    "JDP=input(\"define algo: \")"
   ]
  },
  {
   "cell_type": "code",
   "execution_count": 165,
   "id": "30a9b8ac",
   "metadata": {},
   "outputs": [
    {
     "data": {
      "text/html": [
       "print(<i>\"\"\"Hola {0}, ¿Como esta todo?, espero que bien. ¿Si estas en tercer semestre o te quedaste en primero?\n",
       "Ya tienes {2} años, ¿al final en que quedaste con isabella, si llegaron a algo o se quedo en sueño frustrado?\n",
       "y si no estas en tercer semestre, mira a ver que estas haciendo con tu vida. \n",
       "Coje juicio muchacho, estudia mas O ten la valentia de decirle a tu padre que esto no esta funcionando \n",
       "y que en realidad quieres es ser oficial de la armada. espero que tengas un  grandioso dia.\n",
       "\n",
       "ATT:{1}\"\"\"\n",
       "</i>\n",
       ".center(50,\" \").format(JDF,JDP,EEUA))\n"
      ],
      "text/plain": [
       "<IPython.core.display.HTML object>"
      ]
     },
     "metadata": {},
     "output_type": "display_data"
    }
   ],
   "source": [
    "%%html\n",
    "print(<i>\"\"\"Hola {0}, ¿Como esta todo?, espero que bien. ¿Si estas en tercer semestre o te quedaste en primero?\n",
    "Ya tienes {2} años, ¿al final en que quedaste con isabella, si llegaron a algo o se quedo en sueño frustrado?\n",
    "y si no estas en tercer semestre, mira a ver que estas haciendo con tu vida. \n",
    "Coje juicio muchacho, estudia mas O ten la valentia de decirle a tu padre que esto no esta funcionando \n",
    "y que en realidad quieres es ser oficial de la armada. espero que tengas un  grandioso dia.\n",
    "\n",
    "ATT:{1}\"\"\"\n",
    "</i>\n",
    ".center(50,\" \").format(JDF,JDP,EEUA))"
   ]
  },
  {
   "cell_type": "code",
   "execution_count": 163,
   "id": "d9203f1f",
   "metadata": {
    "scrolled": false
   },
   "outputs": [
    {
     "name": "stdout",
     "output_type": "stream",
     "text": [
      "Hola Jean Del futuro, ¿Como esta todo?, espero que bien. ¿Si estas en tercer semestre o te quedaste en primero?\n",
      "Ya tienes 17 años, ¿al final en que quedaste con isabella, si llegaron a algo o se quedo en sueño frustrado?\n",
      "y si no estas en tercer semestre, mira a ver que estas haciendo con tu vida. \n",
      "Coje juicio muchacho, estudia mas O ten la valentia de decirle a tu padre que esto no esta funcionando \n",
      "y que en realidad quieres es ser oficial de la armada. espero que tengas un  grandioso dia. \n",
      "\n",
      "ATT:Jean Del pasado\n"
     ]
    }
   ],
   "source": [
    "print(\"\"\"Hola {0}, ¿Como esta todo?, espero que bien. ¿Si estas en tercer semestre o te quedaste en primero?\n",
    "Ya tienes {2} años, ¿al final en que quedaste con isabella, si llegaron a algo o se quedo en sueño frustrado?\n",
    "y si no estas en tercer semestre, mira a ver que estas haciendo con tu vida. \n",
    "Coje juicio muchacho, estudia mas O ten la valentia de decirle a tu padre que esto no esta funcionando \n",
    "y que en realidad quieres es ser oficial de la armada. espero que tengas un  grandioso dia. \n",
    "\n",
    "ATT:{1}\"\"\"\n",
    ".center(50,\" \").format(JDF,JDP,EEUA))"
   ]
  },
  {
   "cell_type": "code",
   "execution_count": 166,
   "id": "8f496c85",
   "metadata": {},
   "outputs": [
    {
     "data": {
      "text/html": [
       "<i>fsefdsfdsf</i>\n"
      ],
      "text/plain": [
       "<IPython.core.display.HTML object>"
      ]
     },
     "metadata": {},
     "output_type": "display_data"
    }
   ],
   "source": [
    "%%html\n",
    "<i>fsefdsfdsf</i>\n"
   ]
  },
  {
   "cell_type": "code",
   "execution_count": 174,
   "id": "00e186da",
   "metadata": {},
   "outputs": [
    {
     "name": "stdout",
     "output_type": "stream",
     "text": [
      "Edad que tendre en 10 años: 26\n"
     ]
    }
   ],
   "source": [
    "EEDA=input(\"Edad que tendre en 10 años: \")"
   ]
  },
  {
   "cell_type": "code",
   "execution_count": 175,
   "id": "10304881",
   "metadata": {},
   "outputs": [
    {
     "data": {
      "text/plain": [
       "'26'"
      ]
     },
     "execution_count": 175,
     "metadata": {},
     "output_type": "execute_result"
    }
   ],
   "source": [
    "EEDA"
   ]
  },
  {
   "cell_type": "code",
   "execution_count": 145,
   "id": "d9660503",
   "metadata": {},
   "outputs": [
    {
     "name": "stdout",
     "output_type": "stream",
     "text": [
      "Modelo de vehiculo: Land rover evoque modelo 2032\n"
     ]
    }
   ],
   "source": [
    "Vehiculo=input(\"Modelo de vehiculo: \")"
   ]
  },
  {
   "cell_type": "code",
   "execution_count": 146,
   "id": "9b77c8ed",
   "metadata": {},
   "outputs": [
    {
     "data": {
      "text/plain": [
       "'Land rover evoque modelo 2032'"
      ]
     },
     "execution_count": 146,
     "metadata": {},
     "output_type": "execute_result"
    }
   ],
   "source": [
    "Vehiculo"
   ]
  },
  {
   "cell_type": "code",
   "execution_count": 169,
   "id": "bfc53c75",
   "metadata": {},
   "outputs": [
    {
     "name": "stdout",
     "output_type": "stream",
     "text": [
      "salario que almenos espero tener como cientifico de datos: 10000\n"
     ]
    }
   ],
   "source": [
    "Salario=input(\"salario que almenos espero tener como cientifico de datos: \")"
   ]
  },
  {
   "cell_type": "code",
   "execution_count": 170,
   "id": "c3af998b",
   "metadata": {},
   "outputs": [
    {
     "data": {
      "text/plain": [
       "'10000'"
      ]
     },
     "execution_count": 170,
     "metadata": {},
     "output_type": "execute_result"
    }
   ],
   "source": [
    "Salario"
   ]
  },
  {
   "cell_type": "code",
   "execution_count": 178,
   "id": "3af90f08",
   "metadata": {},
   "outputs": [
    {
     "data": {
      "text/plain": [
       "10000"
      ]
     },
     "execution_count": 178,
     "metadata": {},
     "output_type": "execute_result"
    }
   ],
   "source": [
    "int(Salario)"
   ]
  },
  {
   "cell_type": "code",
   "execution_count": 186,
   "id": "b32ab8b6",
   "metadata": {},
   "outputs": [
    {
     "data": {
      "text/plain": [
       "400000000"
      ]
     },
     "execution_count": 186,
     "metadata": {},
     "output_type": "execute_result"
    }
   ],
   "source": [
    "int(vehiculo)"
   ]
  },
  {
   "cell_type": "code",
   "execution_count": 198,
   "id": "d505e341",
   "metadata": {},
   "outputs": [
    {
     "name": "stdout",
     "output_type": "stream",
     "text": [
      "Hola Jean Del futuro, ya tienes 26 ¿Como te ha tratado la vida?¿Si aprendiste frances? \n",
      "¿Al final terminaste la carrera de ciencia de datos?\n",
      "O empezaste arquitectura en la Jave?. Regardless of what you did,\n",
      "Espero que ya tengas ese Land rover evoque modelo 2032 de 400,000,000.000000\n",
      "y al menos un apartamento decente. \n",
      "Si si te graduaste como cientifico de datos, espero que estes ganando al menos 10000 £ Y si seguiste con la carrera de la \n",
      "armada, Te felicito por decirle que no eras feliz, y hacer lo que soñaste en secreto desde que eras niño.\n",
      "Te deseo un grandioso dia y muchos exitos en cualquier tipo de carrera hayas escojiste.\n",
      "\n",
      "Regards: Jean Del pasado\n",
      "\n"
     ]
    }
   ],
   "source": [
    "print(\"\"\"Hola {0}, ya tienes {1} ¿Como te ha tratado la vida?¿Si aprendiste frances? \n",
    "¿Al final terminaste la carrera de ciencia de datos?\n",
    "O empezaste arquitectura en la Jave?. Regardless of what you did,\n",
    "Espero que ya tengas ese {2} de {3:3,f}\n",
    "y al menos un apartamento decente. \n",
    "Si si te graduaste como cientifico de datos, espero que estes ganando al menos {4} £ Y si seguiste con la carrera de la \n",
    "armada, Te felicito por decirle que no eras feliz, y hacer lo que soñaste en secreto desde que eras niño.\n",
    "Te deseo un grandioso dia y muchos exitos en cualquier tipo de carrera hayas escojiste.\n",
    "\n",
    "Regards: {5}\n",
    "\"\"\"\n",
    ".center(50,\" \").format(JDF,EEDA,Vehiculo,vehiculo,Salario,JDP))\n"
   ]
  },
  {
   "cell_type": "code",
   "execution_count": null,
   "id": "38048472",
   "metadata": {},
   "outputs": [],
   "source": []
  }
 ],
 "metadata": {
  "kernelspec": {
   "display_name": "Python 3 (ipykernel)",
   "language": "python",
   "name": "python3"
  },
  "language_info": {
   "codemirror_mode": {
    "name": "ipython",
    "version": 3
   },
   "file_extension": ".py",
   "mimetype": "text/x-python",
   "name": "python",
   "nbconvert_exporter": "python",
   "pygments_lexer": "ipython3",
   "version": "3.9.7"
  }
 },
 "nbformat": 4,
 "nbformat_minor": 5
}
