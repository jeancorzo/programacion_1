{
 "cells": [
  {
   "cell_type": "markdown",
   "id": "d77b5723",
   "metadata": {},
   "source": [
    "**Cree las siguientes funciones, con su debida documentación:**\n",
    "\n",
    "1. Cree una función que regrese como resultado el nombre de un restaurante y su NIT en una cadena de caracteres, pueden ser ficticios.✅\n",
    "2. Si en dicho restaurante cada persona consume en promedio 50000, haga una función que permira calcular el valor de la cuenta, en promedio, dado el número de comensales.✅\n",
    "3. En el total calculado en el punto anterior se incluye el impuesto al consumo, cree una función que le permita conocer el valor que debería pagar sin dicho impuesto el cual asciende al $8\\%$.✅\n",
    "4. Una función que tenga como argumentos de entrada nombre de una persona y cantidad de comensales, la función debe tener como respuesta un \"recibo\" en el que aparezca el nombre del restaurante, su NIT, el nombre del cliente, el valor de la factura sin impuestos y con impuestos (sug: emplee como base las funciones creadas anteriormente).\n",
    "5. Una función que permita calcular el máximo entre dos números. ✅\n",
    "6. Una función que ordene de menor a mayor tres números. ✅\n",
    "7. Una función que dadas 5 notas de un estudiante, le permitan calcular la definitiva de la materia (nota 1: 10%, nota 2: 20%, nota 3: 30%, nota 4: 15%, nota 5: 25%) junto a un mensaje el cual resuma el desempeño del estudiante en el curso. (*Sug*: utilice los intervalos $0\\leq x<1,\\ 1\\leq x<2,\\ 2\\leq x<3,\\ 3\\leq x<4, 4\\leq x<4.5,\\ 4.5\\leq x\\leq5 $)✅"
   ]
  },
  {
   "cell_type": "markdown",
   "id": "bfe721a6",
   "metadata": {},
   "source": [
    "# Desarrollo\n",
    "\n",
    "____________"
   ]
  },
  {
   "cell_type": "code",
   "execution_count": 1,
   "id": "0f548496",
   "metadata": {},
   "outputs": [
    {
     "ename": "SyntaxError",
     "evalue": "EOF while scanning triple-quoted string literal (Temp/ipykernel_23392/1965972240.py, line 8)",
     "output_type": "error",
     "traceback": [
      "\u001b[1;36m  File \u001b[1;32m\"C:\\Users\\jeanc\\AppData\\Local\\Temp/ipykernel_23392/1965972240.py\"\u001b[1;36m, line \u001b[1;32m8\u001b[0m\n\u001b[1;33m    print (f\"\"\" RECIBO DE PAGO \\n {restaurantes('Creppes & Waffles',1234)} \\n Estimado cliente, {nameP} \\n El valor de su factura sin impuestos es: {cuentaSinImp(comensales)}\u001b[0m\n\u001b[1;37m                                                                                                                                                                               ^\u001b[0m\n\u001b[1;31mSyntaxError\u001b[0m\u001b[1;31m:\u001b[0m EOF while scanning triple-quoted string literal\n"
     ]
    }
   ],
   "source": [
    "# punto 4\n",
    "\n",
    "def recibo(nameP,comensales):\n",
    "    \n",
    "    \"\"\" Función que tiene como respuesta un \"recibo\" con el nombre del restaurante, su NIT, el nombre del cliente, el valor de la factura sin impuestos y con impuestos. \"\"\"\n",
    "    \n",
    "    \n",
    "    print (f\"\"\" RECIBO DE PAGO \\n {restaurantes('Creppes & Waffles',1234)} \\n Estimado cliente, {nameP} \\n El valor de su factura sin impuestos es: {cuentaSinImp(comensales)} "
   ]
  },
  {
   "cell_type": "code",
   "execution_count": 85,
   "id": "9b55f744",
   "metadata": {},
   "outputs": [
    {
     "data": {
      "text/plain": [
       "250000"
      ]
     },
     "execution_count": 85,
     "metadata": {},
     "output_type": "execute_result"
    }
   ],
   "source": [
    "# punto 2 \n",
    "\n",
    "\"\"\"esta funcion calcula el valor de la cuenta en promedio dado que cada comensal consume 50000\"\"\"\n",
    "\n",
    "def prom(comensalES):\n",
    "    total_cuenta= comensalES*50000\n",
    "    return total_cuenta\n",
    "prom(5)"
   ]
  },
  {
   "cell_type": "code",
   "execution_count": 89,
   "id": "652f4403",
   "metadata": {},
   "outputs": [
    {
     "data": {
      "text/plain": [
       "138888"
      ]
     },
     "execution_count": 89,
     "metadata": {},
     "output_type": "execute_result"
    }
   ],
   "source": [
    "int((100/108)*150000)"
   ]
  },
  {
   "cell_type": "code",
   "execution_count": 92,
   "id": "55e4e1d3",
   "metadata": {},
   "outputs": [
    {
     "data": {
      "text/plain": [
       "185185"
      ]
     },
     "execution_count": 92,
     "metadata": {},
     "output_type": "execute_result"
    }
   ],
   "source": [
    "# punto 3\n",
    "\n",
    "\"\"\"esta funcion permitira calcular el valor que se deberia pagar sin el impuesto al consumo (IVA) el cual es de el 8%\"\"\"\n",
    "\n",
    "def prom_sin_IVA(comensalES):\n",
    "    total_cuenta= comensalES*50000\n",
    "    menos_IVA= (100/108)*total_cuenta\n",
    "    return int(menos_IVA)\n",
    "prom_sin_IVA(4)"
   ]
  },
  {
   "cell_type": "code",
   "execution_count": 81,
   "id": "bbcc08f6",
   "metadata": {},
   "outputs": [
    {
     "name": "stdout",
     "output_type": "stream",
     "text": [
      "sadsadasd 123112313\n"
     ]
    }
   ],
   "source": [
    "# punto 1\n",
    "\n",
    "\"\"\"esta funcion regresa como resultadoe l nombre de un restaurante con su NIT en cadena de caracteres, estos pueden\n",
    "ser ficticios.\"\"\"\n",
    "def nombre_e_NIT(nombre,NIT):\n",
    "    return print(nombre, NIT)\n",
    "nombre_e_NIT(\"sadsadasd\",\"123112313\")"
   ]
  },
  {
   "cell_type": "code",
   "execution_count": 10,
   "id": "e8e73247",
   "metadata": {},
   "outputs": [
    {
     "name": "stdout",
     "output_type": "stream",
     "text": [
      "200\n"
     ]
    }
   ],
   "source": [
    "# punto 5\n",
    "\n",
    "\n",
    "\"\"\"esta funcion permite calcular el maximo entre dos numeros, \"\"\"\n",
    "\n",
    "def maximo(a,b):\n",
    "    if a>b:\n",
    "        print(a)\n",
    "    if a<b:\n",
    "        print(b)\n",
    "maximo(200,25)"
   ]
  },
  {
   "cell_type": "code",
   "execution_count": 27,
   "id": "aca4a185",
   "metadata": {},
   "outputs": [
    {
     "name": "stdout",
     "output_type": "stream",
     "text": [
      "3 4 5\n"
     ]
    }
   ],
   "source": [
    "# punto 6\n",
    "\n",
    "\"\"\"esta funcion permite ordenar 3 numeros de menor a mayor\"\"\"\n",
    "\n",
    "def orden(a,b,c):\n",
    "    if a<b<c:\n",
    "        print(a,b,c)\n",
    "    if a<b>c<a:\n",
    "        print(c,a,b)\n",
    "    if b<a<c:\n",
    "        print(b,a,c)\n",
    "    if a>b>c:\n",
    "        print(c,b,a)\n",
    "orden(4,5,3)"
   ]
  },
  {
   "cell_type": "code",
   "execution_count": 73,
   "id": "0c161600",
   "metadata": {},
   "outputs": [
    {
     "name": "stdout",
     "output_type": "stream",
     "text": [
      "5.0 Superior\n"
     ]
    }
   ],
   "source": [
    "# punto 7\n",
    "\"\"\"esta funcion permite calcular dadas 5 notas de un estudiante la definitiva de la materia\n",
    "siendo los porcentajes de cada nota respectivamente 10%, 20%, 30%, 15% y 25%, esta funcion tambien dara un\n",
    "resumen escrito del desempeño del estudiante. 'mediocre', 'bajo', 'basico','alto','superior'\"\"\"\n",
    "\n",
    "\n",
    "def definitiva(a,b,c,d,e):\n",
    "    n= a*0.1\n",
    "    m= b*0.2\n",
    "    o= c*0.3\n",
    "    p= d*0.15\n",
    "    q= e*0.25\n",
    "    r= n+m+o+p+q\n",
    "    if 0<=r<1:\n",
    "        print(r, \"Mediocre\")\n",
    "    if 1<= r <3:\n",
    "        print(r, \"Bajo\")\n",
    "    if 3<=r<4.2:\n",
    "        print(r, \"Basico\")\n",
    "    if 4.3<=r<4.7:\n",
    "        print(r, \"Alto\")\n",
    "    if 4.7<=r<=5:\n",
    "        print(r,\"Superior\")\n",
    "definitiva(5,5,5,5,5)"
   ]
  },
  {
   "cell_type": "code",
   "execution_count": null,
   "id": "7a533024",
   "metadata": {},
   "outputs": [],
   "source": []
  }
 ],
 "metadata": {
  "kernelspec": {
   "display_name": "Python 3 (ipykernel)",
   "language": "python",
   "name": "python3"
  },
  "language_info": {
   "codemirror_mode": {
    "name": "ipython",
    "version": 3
   },
   "file_extension": ".py",
   "mimetype": "text/x-python",
   "name": "python",
   "nbconvert_exporter": "python",
   "pygments_lexer": "ipython3",
   "version": "3.9.7"
  }
 },
 "nbformat": 4,
 "nbformat_minor": 5
}
